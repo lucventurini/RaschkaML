{
 "cells": [
  {
   "cell_type": "code",
   "execution_count": 1,
   "metadata": {
    "collapsed": true
   },
   "outputs": [],
   "source": [
    "# One of the most common and popular methods for reducing the dimensionality of a dataset\n",
    "# is Principal Component Analysis, or PCA. The method relies on finding the most important\n",
    "# ORTHOGONAL (ie uncorrelated) components of the dataset.\n",
    "# The steps for PCA are as follows:\n",
    "# 1. Standardize the d-dimensional input dataset X\n",
    "# 2. Construct the covariance matrix (TODO: check this up)\n",
    "# 3. Decompose the covariance matrix into eigenvectors and eigenvalues (see https://en.wikipedia.org/wiki/Eigenvalues_and_eigenvectors)\n",
    "# 4. Sort the eigenvalues by decreasing order to rank the corresponding eigenvectors\n",
    "# 5. Select k eigenvectors corresponding to the largest k eigenvalues,\n",
    "#    where k is the dimensionality of the new feature subspace (k < d)\n",
    "# 6. Construct a projection matrix W from the top k eigenvectors\n",
    "# 7. Transform the d-dimensional input dataset X using the projection matrix W to obtain the new\n",
    "#    k-dimensional feature subspace.\n",
    "#\n",
    "# Now we are going to implement PCA on our own, to understand exactly how the method functions.\n",
    "#\n",
    "# As a first thing, we will implement the *first four steps of the PCA*.\n",
    "\n",
    "import pandas as pd\n",
    "df_wine = pd.read_csv(\"https://archive.ics.uci.edu/ml/machine-learning-databases/wine/wine.data\",\n",
    "                     header=None)\n",
    "# Split into 70% training and 30% testing\n",
    "\n",
    "from sklearn.model_selection import train_test_split\n",
    "X, y = df_wine.iloc[:,1:].values, df_wine.iloc[:,0].values\n",
    "X_train, X_test, y_train, y_test = train_test_split(X, y, test_size=0.3, random_state=0, stratify=y)\n",
    "\n",
    "# Standardize features\n",
    "from sklearn.preprocessing import StandardScaler\n",
    "sc = StandardScaler()\n",
    "X_train_std = sc.fit_transform(X_train)\n",
    "X_test_std = sc.fit_transform(X_test)"
   ]
  },
  {
   "cell_type": "code",
   "execution_count": 7,
   "metadata": {
    "collapsed": false
   },
   "outputs": [
    {
     "name": "stdout",
     "output_type": "stream",
     "text": [
      "\n",
      "Eigenvalues \n",
      "[0.10754642 0.15362835 0.1808613  0.21357215 0.3131368  0.34650377\n",
      " 0.51828472 0.6620634  0.84166161 0.96120438 1.54845825 2.41602459\n",
      " 4.84274532]\n",
      "\n",
      "Eigenvalues \n",
      "[0.10754642 0.15362835 0.1808613  0.21357215 0.3131368  0.34650377\n",
      " 0.51828472 0.6620634  0.84166161 0.96120438 1.54845825 2.41602459\n",
      " 4.84274532]\n",
      "\n",
      "Total sum of the eigen values: 13.105691056910567\n"
     ]
    }
   ],
   "source": [
    "# Step two: construct the covariance matrix\n",
    "# This is a d x d matrix (d being the number of features), which stores the pairwise covariance between\n",
    "# the different features.\n",
    "# In general, the covariance between two features x_j and x_k can be calculated as follows:\n",
    "# var_jk = 1/n * sum(i=1,n)[ (x_j(i) - mean_j) * (x_k(i) - mean_k) ]\n",
    "# If the dataset has been standardized, by definition mean_k = mean_j = 0, so we can rewrite as\n",
    "# var_jk = 1/n * sum(i=1, n)[x_j(i) * x_k(i)]\n",
    "# \n",
    "# Given a covariance matrix, its eigen-vectors represent the directions of maximum variance, and the\n",
    "# eigenvalues, the magnitude.\n",
    "# An eigenvector v satisfies the following condition:\n",
    "# SIGMA v = LAMBDA v\n",
    "# with LAMBDA being a scalar, ie our EIGENVALUE.\n",
    "\n",
    "import numpy as np\n",
    "# We are lazy, so we are just going to us NumPY to calculate the Covariance Matrix\n",
    "cov_mat = np.cov(X_train_std.T)\n",
    "# Now we are going again to use NumPY to calculate the eigen-values and eigen-vectors\n",
    "eigen_vals, eigen_vecs = np.linalg.eig(cov_mat)\n",
    "eigen_vals = np.sort(eigen_vals)\n",
    "print(\"\\nEigenvalues \\n{}\".format(eigen_vals))\n",
    "\n",
    "# The eigh function (EIGen decomposition for Hermetian matrices) will function only on symmetric matrices\n",
    "# but is guaranteed to always find real, rather than imaginary, eigen-values.\n",
    "eigen_vals, eigen_vecs = np.linalg.eigh(cov_mat)\n",
    "eigen_vals = np.sort(eigen_vals)\n",
    "print(\"\\nEigenvalues \\n{}\".format(eigen_vals))\n",
    "print()\n",
    "print(\"Total sum of the eigen values:\", eigen_vals.sum())"
   ]
  },
  {
   "cell_type": "code",
   "execution_count": 9,
   "metadata": {
    "collapsed": false
   },
   "outputs": [
    {
     "data": {
      "image/png": "[encoded data removed]",
      "text/plain": [
       "<matplotlib.figure.Figure at 0x7f2d63f92a58>"
      ]
     },
     "metadata": {},
     "output_type": "display_data"
    }
   ],
   "source": [
    "# In this context, the eigenvalues can be interpreted as the magnitude of the variance explained by the\n",
    "# corresponding eigenvector. The **variance explained ratio of an eigenvalue** is the ratio of the eigenvalue\n",
    "# over the total sum of the eigenvalues.\n",
    "# Let us plot it!\n",
    "\n",
    "import matplotlib.pyplot as plt\n",
    "\n",
    "tot = eigen_vals.sum()\n",
    "var_exp = np.array([(i/tot) for i in sorted(eigen_vals, reverse=True)])\n",
    "cum_var_exp = np.cumsum(var_exp)\n",
    "plt.bar(range(1,14), var_exp, alpha=0.5, align=\"center\", label=\"individual explained variance\")\n",
    "plt.step(range(1,14), cum_var_exp, where=\"mid\", label=\"cumulative explained variance\")\n",
    "plt.ylabel(\"Explained variance ratio\")\n",
    "plt.xlabel(\"Principal component index\")\n",
    "plt.legend()\n",
    "plt.show()\n"
   ]
  },
  {
   "cell_type": "code",
   "execution_count": 10,
   "metadata": {
    "collapsed": true
   },
   "outputs": [],
   "source": [
    "# Now that we have obtained the covariance matrix, and its eigen components, time to map the dataset\n",
    "# onto the reduced dimensionality space.\n",
    "# 5. Select k eigenvectors, in decreasing order\n",
    "# 6. Construct a projection matrix W\n",
    "# 7. Transform the input dataset X into the W space\n",
    "\n",
    "# 5. Make an ordered list of tuples of eigen-values and eigen-vectors\n",
    "\n",
    "eigen_pairs = [(np.abs(eigen_vals[i]), eigen_vecs[:, i]) for i in range(len(eigen_vals))]\n",
    "# Sort\n",
    "eigen_pairs = sorted(eigen_pairs, key=lambda k: k[0], reverse=True)"
   ]
  },
  {
   "cell_type": "code",
   "execution_count": 12,
   "metadata": {
    "collapsed": false
   },
   "outputs": [
    {
     "name": "stdout",
     "output_type": "stream",
     "text": [
      "Matrix W:\n",
      " [[-0.13724218  0.50303478]\n",
      " [ 0.24724326  0.16487119]\n",
      " [-0.02545159  0.24456476]\n",
      " [ 0.20694508 -0.11352904]\n",
      " [-0.15436582  0.28974518]\n",
      " [-0.39376952  0.05080104]\n",
      " [-0.41735106 -0.02287338]\n",
      " [ 0.30572896  0.09048885]\n",
      " [-0.30668347  0.00835233]\n",
      " [ 0.07554066  0.54977581]\n",
      " [-0.32613263 -0.20716433]\n",
      " [-0.36861022 -0.24902536]\n",
      " [-0.29669651  0.38022942]]\n"
     ]
    }
   ],
   "source": [
    "# Select the first two vectors, for illustration purposes\n",
    "\n",
    "w = np.hstack((eigen_pairs[0][1][:, np.newaxis], eigen_pairs[1][1][:, np.newaxis]))\n",
    "print(\"Matrix W:\\n\", w)\n",
    "\n",
    "# Now project the original feature space onto the reduced dimensional matrix using w\n",
    "\n",
    "X_train_pca = X_train_std.dot(w)"
   ]
  },
  {
   "cell_type": "code",
   "execution_count": 14,
   "metadata": {
    "collapsed": false
   },
   "outputs": [
    {
     "data": {
      "image/png": "[encoded data removed]",
      "text/plain": [
       "<matplotlib.figure.Figure at 0x7f2d63f92400>"
      ]
     },
     "metadata": {},
     "output_type": "display_data"
    }
   ],
   "source": [
    "# Finally let us visualise it all\n",
    "\n",
    "colors = [\"r\", \"g\", \"b\"]\n",
    "markers = [\"s\", \"x\", \"o\"]\n",
    "\n",
    "for l, c, m in zip(np.unique(y_train), colors, markers):\n",
    "    plt.scatter(X_train_pca[y_train==l, 0],\n",
    "                X_train_pca[y_train==l, 1],\n",
    "               c=c, label=l, marker=m)\n",
    "    \n",
    "plt.xlabel(\"PC1\")\n",
    "plt.ylabel(\"PC2\")\n",
    "plt.legend(loc=\"lower left\")\n",
    "plt.show()\n",
    "\n",
    "# In this case we are lucky: PCA does not use the class labels in any way - it is an UNSUPERVISED \n",
    "# technique - yet the PCA-reduced data would well be separable through a simple linear classifier"
   ]
  },
  {
   "cell_type": "code",
   "execution_count": 17,
   "metadata": {
    "collapsed": false
   },
   "outputs": [
    {
     "data": {
      "image/png": "[encoded data removed]",
      "text/plain": [
       "<matplotlib.figure.Figure at 0x7f2d63fb3a20>"
      ]
     },
     "metadata": {},
     "output_type": "display_data"
    }
   ],
   "source": [
    "# For curiosity's sake, now let's try with the test partition ...\n",
    "\n",
    "X_test_pca = X_test_std.dot(w)\n",
    "\n",
    "colors = [\"r\", \"g\", \"b\"]\n",
    "markers = [\"s\", \"x\", \"o\"]\n",
    "\n",
    "for l, c, m in zip(np.unique(y_test), colors, markers):\n",
    "    plt.scatter(X_test_pca[y_test==l, 0],\n",
    "                X_test_pca[y_test==l, 1],\n",
    "                c=c, label=l, marker=m)\n",
    "    \n",
    "plt.xlabel(\"PC1\")\n",
    "plt.ylabel(\"PC2\")\n",
    "plt.legend(loc=\"lower left\")\n",
    "plt.show()\n",
    "\n",
    "# Still lucky: the evident linear separation of the three classes holds."
   ]
  },
  {
   "cell_type": "code",
   "execution_count": 18,
   "metadata": {
    "collapsed": true
   },
   "outputs": [],
   "source": [
    "## Now that we have a grasp of how PCA functions, time to use the more efficient version\n",
    "## Present in SKLearn. \n",
    "\n",
    "from matplotlib.colors import ListedColormap\n",
    "\n",
    "def plot_decision_regions(X, y, classifier, resolution=0.02):\n",
    "    # setup marker generator and color map\n",
    "    \n",
    "    markers = (\"s\", \"x\", \"o\", \"^\", \"v\")\n",
    "    colors = (\"red\", \"blue\", \"lightgreen\", \"gray\", \"cyan\")\n",
    "    cmap = ListedColormap(colors[:len(np.unique(y))])\n",
    "    \n",
    "    # plot the decision surface\n",
    "    x1_min, x1_max = X[:, 0].min() - 1, X[:, 0].max() + 1\n",
    "    x2_min, x2_max = X[:, 1].min() - 1, X[:, 1].max() + 1\n",
    "    # Meshgrid: this utility \n",
    "    xx1, xx2 = np.meshgrid(np.arange(x1_min, x1_max, resolution),\n",
    "                           np.arange(x2_min, x2_max, resolution))\n",
    "    Z = classifier.predict(np.array([xx1.ravel(), xx2.ravel()]).T)\n",
    "    Z = Z.reshape(xx1.shape)\n",
    "    plt.contourf(xx1, xx2, Z, alpha=0.2, cmap=cmap)\n",
    "    plt.xlim(xx1.min(), xx1.max())\n",
    "    plt.ylim(xx2.min(), xx2.max())\n",
    "    \n",
    "    # Plot class samples\n",
    "    for idx, cl in enumerate(np.unique(y)):\n",
    "        plt.scatter(x=X[y == cl, 0], \n",
    "                   y=X[ y== cl, 1],\n",
    "                    alpha=0.8,\n",
    "                    c=colors[idx],\n",
    "                    marker=markers[idx],\n",
    "                    label=cl,\n",
    "                    edgecolor=\"black\")\n",
    "    return"
   ]
  },
  {
   "cell_type": "code",
   "execution_count": 22,
   "metadata": {
    "collapsed": false
   },
   "outputs": [
    {
     "data": {
      "image/png": "[encoded data removed]",
      "text/plain": [
       "<matplotlib.figure.Figure at 0x7f2d6183e390>"
      ]
     },
     "metadata": {},
     "output_type": "display_data"
    }
   ],
   "source": [
    "from sklearn.linear_model import LogisticRegression\n",
    "from sklearn.decomposition import PCA\n",
    "\n",
    "pca = PCA(n_components=2)\n",
    "lr = LogisticRegression()\n",
    "X_train_pca = pca.fit_transform(X_train_std)\n",
    "X_test_pca = pca.fit_transform(X_test_std)\n",
    "lr.fit(X_train_pca, y_train)\n",
    "plot_decision_regions(X_train_pca, y_train, classifier=lr)\n",
    "plt.xlabel(\"PC 1\")\n",
    "plt.ylabel(\"PC 2\")\n",
    "plt.legend(loc=\"lower left\")\n",
    "plt.show()"
   ]
  },
  {
   "cell_type": "code",
   "execution_count": 23,
   "metadata": {
    "collapsed": false
   },
   "outputs": [
    {
     "data": {
      "image/png": "[encoded data removed]",
      "text/plain": [
       "<matplotlib.figure.Figure at 0x7f2d61724eb8>"
      ]
     },
     "metadata": {},
     "output_type": "display_data"
    }
   ],
   "source": [
    "# Let us plot the same for the test data\n",
    "\n",
    "lr.fit(X_test_pca, y_test)\n",
    "plot_decision_regions(X_test_pca, y_test, classifier=lr)\n",
    "plt.xlabel(\"PC 1\")\n",
    "plt.ylabel(\"PC 2\")\n",
    "plt.legend(loc=\"lower left\")\n",
    "plt.show()"
   ]
  },
  {
   "cell_type": "code",
   "execution_count": null,
   "metadata": {
    "collapsed": true
   },
   "outputs": [],
   "source": []
  }
 ],
 "metadata": {
  "kernelspec": {
   "display_name": "Python 3",
   "language": "python",
   "name": "python3"
  },
  "language_info": {
   "codemirror_mode": {
    "name": "ipython",
    "version": 3
   },
   "file_extension": ".py",
   "mimetype": "text/x-python",
   "name": "python",
   "nbconvert_exporter": "python",
   "pygments_lexer": "ipython3",
   "version": "3.6.0"
  }
 },
 "nbformat": 4,
 "nbformat_minor": 2
}
