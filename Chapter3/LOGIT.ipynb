{
 "cells": [
  {
   "cell_type": "code",
   "execution_count": 1,
   "metadata": {
    "collapsed": false
   },
   "outputs": [
    {
     "data": {
      "image/png": "[encoded data removed]",
      "text/plain": [
       "<matplotlib.figure.Figure at 0x7f60b4888f60>"
      ]
     },
     "metadata": {},
     "output_type": "display_data"
    }
   ],
   "source": [
    "\"\"\"This notebook contains notes regarding LOGIT\n",
    "LOGIT is defined as the logarithm of the odds ratio, ie\n",
    "\n",
    "logit(p) = log(p/(1 - p))\n",
    "\n",
    "where log is the *natural* logarithm.\n",
    "\n",
    "For machine learning, we are interested in calculating the inverse function of logit,\n",
    "ie the sigmoid:\n",
    "\n",
    "phi(z) = 1 / (1 + e ** (-z))\n",
    "\n",
    "where z is the net input.\n",
    "\"\"\"\n",
    "\n",
    "\n",
    "import matplotlib.pyplot as plt\n",
    "import numpy as np\n",
    "\n",
    "def sigmoid(z):\n",
    "    return 1.0 / (1.0 + np.exp(-z))\n",
    "\n",
    "# Define a linear set of values\n",
    "z = np.arange(-7, 7, 0.1)\n",
    "\n",
    "phi_z = sigmoid(z)\n",
    "plt.plot(z, phi_z)\n",
    "plt.axvline(0.0, color=\"k\")  # Vertical line on 0x\n",
    "plt.ylim(-0.1, 1.1)\n",
    "plt.xlabel(\"z\")\n",
    "plt.ylabel(\"$\\phi (z)$\")  # Use the $ signs to switch on the latex-like syntax\n",
    "plt.yticks([0.0, 0.5, 1.0])\n",
    "ax = plt.gca()  # Get Current Axes\n",
    "ax.yaxis.grid(True)\n",
    "plt.show()"
   ]
  },
  {
   "cell_type": "code",
   "execution_count": null,
   "metadata": {
    "collapsed": true
   },
   "outputs": [],
   "source": [
    "\"\"\"When using LOGIT for Machine Learning,\n",
    "it is usually put as an ACTIVATION function, ie the function that maps from the net input\n",
    "to the valid internal output space (I hope.)\"\"\"\n",
    "\n"
   ]
  }
 ],
 "metadata": {
  "kernelspec": {
   "display_name": "Python 3",
   "language": "python",
   "name": "python3"
  },
  "language_info": {
   "codemirror_mode": {
    "name": "ipython",
    "version": 3
   },
   "file_extension": ".py",
   "mimetype": "text/x-python",
   "name": "python",
   "nbconvert_exporter": "python",
   "pygments_lexer": "ipython3",
   "version": "3.6.0"
  }
 },
 "nbformat": 4,
 "nbformat_minor": 2
}
